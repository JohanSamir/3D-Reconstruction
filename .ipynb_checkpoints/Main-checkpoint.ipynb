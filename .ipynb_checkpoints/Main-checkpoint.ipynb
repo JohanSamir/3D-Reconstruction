{
 "cells": [
  {
   "cell_type": "code",
   "execution_count": 2,
   "metadata": {},
   "outputs": [],
   "source": [
    "# Import Libraries\n",
    "import os.path\n",
    "import numpy as np\n",
    "from tensorflow.python.platform import gfile\n",
    "import pypcd\n",
    "import os\n",
    "import subprocess\n",
    "import pandas as pd\n",
    "from pandas import DataFrame\n"
   ]
  },
  {
   "cell_type": "code",
   "execution_count": 3,
   "metadata": {},
   "outputs": [
    {
     "name": "stdout",
     "output_type": "stream",
     "text": [
      "410\n",
      "<class 'str'> /home/johan/Documents/Alignment/Points_csv/pointscsv2954.csv\n"
     ]
    }
   ],
   "source": [
    "# Find number of PointClouds\n",
    "\n",
    "point_dir = '/home/johan/Documents/Alignment/Points_csv/'\n",
    "#se crea un vector vacio para guardar los nombres de las imágenes.\n",
    "file_list = []\n",
    "#se obtienen todos los nombre de las imagenes en la carpeta train que tengan extensión .csv\n",
    "file_glob = os.path.join(point_dir, '*.csv')\n",
    "#se organizan en el vector file_list todos las direcciones de las imágenes \n",
    "#encontrados dentro de la carpeta train\n",
    "file_list.extend(gfile.Glob(file_glob))\n",
    "print(len(file_list))\n",
    "print(type(file_list[0]),file_list[0])"
   ]
  },
  {
   "cell_type": "code",
   "execution_count": 13,
   "metadata": {},
   "outputs": [
    {
     "name": "stdout",
     "output_type": "stream",
     "text": [
      "refe (24561, 3)\n",
      "refe (24561, 3)\n",
      "refe2 (24560, 3)\n",
      "refetotal (49121, 3)\n"
     ]
    }
   ],
   "source": [
    "refe = pd.read_csv('/home/johan/Documents/Alignment/Points_csv/refe.csv')\n",
    "print (\"refe\", refe.shape)\n",
    "refe = np.array(refe)\n",
    "print (\"refe\", refe.shape)                    \n",
    "    \n",
    "refe2 = pd.read_csv('/home/johan/Documents/Alignment/Points_csv/refe.csv')\n",
    "refe2 = np.array(refe)\n",
    "refe2 = refe2[1:refe2.shape[0],:]\n",
    "print('refe2',refe2.shape)\n",
    "\n",
    "refetotal = np.vstack((refe,refe2))\n",
    "print('refetotal',refetotal.shape)                        \n",
    "                        \n",
    "                        \n",
    "                        "
   ]
  },
  {
   "cell_type": "code",
   "execution_count": 4,
   "metadata": {},
   "outputs": [
    {
     "name": "stderr",
     "output_type": "stream",
     "text": [
      "ERROR:root:Internal Python error in the inspect module.\n",
      "Below is the traceback from this internal error.\n",
      "\n"
     ]
    },
    {
     "name": "stdout",
     "output_type": "stream",
     "text": [
      "Traceback (most recent call last):\n",
      "  File \"/home/johan/.local/lib/python3.5/site-packages/IPython/core/interactiveshell.py\", line 2910, in run_code\n",
      "    exec(code_obj, self.user_global_ns, self.user_ns)\n",
      "  File \"<ipython-input-4-45d32610fc75>\", line 6, in <module>\n",
      "    refe = pd.read_csv(point_dir)\n",
      "  File \"/home/johan/anaconda2/envs/tensorflow_py3/lib/python3.5/site-packages/pandas/io/parsers.py\", line 678, in parser_f\n",
      "    return _read(filepath_or_buffer, kwds)\n",
      "  File \"/home/johan/anaconda2/envs/tensorflow_py3/lib/python3.5/site-packages/pandas/io/parsers.py\", line 446, in _read\n",
      "    data = parser.read(nrows)\n",
      "  File \"/home/johan/anaconda2/envs/tensorflow_py3/lib/python3.5/site-packages/pandas/io/parsers.py\", line 1036, in read\n",
      "    ret = self._engine.read(nrows)\n",
      "  File \"/home/johan/anaconda2/envs/tensorflow_py3/lib/python3.5/site-packages/pandas/io/parsers.py\", line 1848, in read\n",
      "    data = self._reader.read(nrows)\n",
      "  File \"pandas/_libs/parsers.pyx\", line 876, in pandas._libs.parsers.TextReader.read\n",
      "  File \"pandas/_libs/parsers.pyx\", line 891, in pandas._libs.parsers.TextReader._read_low_memory\n",
      "  File \"pandas/_libs/parsers.pyx\", line 968, in pandas._libs.parsers.TextReader._read_rows\n",
      "  File \"pandas/_libs/parsers.pyx\", line 1094, in pandas._libs.parsers.TextReader._convert_column_data\n",
      "  File \"pandas/_libs/parsers.pyx\", line 1134, in pandas._libs.parsers.TextReader._convert_tokens\n",
      "  File \"pandas/_libs/parsers.pyx\", line 1180, in pandas._libs.parsers.TextReader._convert_with_dtype\n",
      "  File \"/home/johan/anaconda2/envs/tensorflow_py3/lib/python3.5/site-packages/pandas/core/dtypes/common.py\", line 811, in is_integer_dtype\n",
      "    def is_integer_dtype(arr_or_dtype):\n",
      "KeyboardInterrupt\n",
      "\n",
      "During handling of the above exception, another exception occurred:\n",
      "\n",
      "Traceback (most recent call last):\n",
      "  File \"/home/johan/.local/lib/python3.5/site-packages/IPython/core/interactiveshell.py\", line 1828, in showtraceback\n",
      "    stb = value._render_traceback_()\n",
      "AttributeError: 'KeyboardInterrupt' object has no attribute '_render_traceback_'\n",
      "\n",
      "During handling of the above exception, another exception occurred:\n",
      "\n",
      "Traceback (most recent call last):\n",
      "  File \"/home/johan/.local/lib/python3.5/site-packages/IPython/core/ultratb.py\", line 1090, in get_records\n",
      "    return _fixed_getinnerframes(etb, number_of_lines_of_context, tb_offset)\n",
      "  File \"/home/johan/.local/lib/python3.5/site-packages/IPython/core/ultratb.py\", line 311, in wrapped\n",
      "    return f(*args, **kwargs)\n",
      "  File \"/home/johan/.local/lib/python3.5/site-packages/IPython/core/ultratb.py\", line 345, in _fixed_getinnerframes\n",
      "    records = fix_frame_records_filenames(inspect.getinnerframes(etb, context))\n",
      "  File \"/home/johan/anaconda2/envs/tensorflow_py3/lib/python3.5/inspect.py\", line 1453, in getinnerframes\n",
      "    frameinfo = (tb.tb_frame,) + getframeinfo(tb, context)\n",
      "  File \"/home/johan/anaconda2/envs/tensorflow_py3/lib/python3.5/inspect.py\", line 1410, in getframeinfo\n",
      "    filename = getsourcefile(frame) or getfile(frame)\n",
      "  File \"/home/johan/anaconda2/envs/tensorflow_py3/lib/python3.5/inspect.py\", line 672, in getsourcefile\n",
      "    if getattr(getmodule(object, filename), '__loader__', None) is not None:\n",
      "  File \"/home/johan/anaconda2/envs/tensorflow_py3/lib/python3.5/inspect.py\", line 718, in getmodule\n",
      "    os.path.realpath(f)] = module.__name__\n",
      "  File \"/home/johan/anaconda2/envs/tensorflow_py3/lib/python3.5/posixpath.py\", line 372, in realpath\n",
      "    path, ok = _joinrealpath(filename[:0], filename, {})\n",
      "  File \"/home/johan/anaconda2/envs/tensorflow_py3/lib/python3.5/posixpath.py\", line 405, in _joinrealpath\n",
      "    newpath = join(path, name)\n",
      "  File \"/home/johan/anaconda2/envs/tensorflow_py3/lib/python3.5/posixpath.py\", line 78, in join\n",
      "    try:\n",
      "KeyboardInterrupt\n"
     ]
    },
    {
     "ename": "KeyboardInterrupt",
     "evalue": "",
     "output_type": "error",
     "traceback": [
      "\u001b[0;31m---------------------------------------------------------------------------\u001b[0m"
     ]
    }
   ],
   "source": [
    "# Alignt PCs\n",
    "#para cada pointcloud dentro del vector file_list\n",
    "a = 0 \n",
    "for point_dir in file_list:\n",
    "    if a == 0:\n",
    "        refe = pd.read_csv(point_dir)\n",
    "        df = DataFrame(refe, columns= ['x', 'y','z'])\n",
    "        export_csv = df.to_csv (r'/home/johan/Documents/Alignment/Points_csv/refe.csv', index = None, header=True) #Don't forget to add '.csv' at the end of the path\n",
    "        #print (df)\n",
    "        a = 1\n",
    "        \n",
    "    else:\n",
    "        pointcloud1_path_refe = \"/home/johan/Documents/Alignment/Points_csv/refe.csv\"\n",
    "        refe = pd.read_csv(pointcloud1_path_refe)\n",
    "        refe = np.array(refe)\n",
    "        print (\"refe\", refe.shape) \n",
    "        \n",
    "        pointcloud2_path_in = point_dir\n",
    "        icp_path=\"/home/johan/Libraries/libpointmatcher/build/examples\"\n",
    "\n",
    "        #--------------- correr el ejecutable de c++ ------------------\n",
    "        #runicp = subprocess.Popen([os.path.join(icp_path,\"icp_simple\"),pointcloud1_path,pointcloud2_path],stdout=subprocess.PIPE,stderr=subprocess.PIPE)\n",
    "        runicp = subprocess.Popen([os.path.join(icp_path,\"icp_simple\"),pointcloud1_path_refe,pointcloud2_path_in,'OutPc'],stdout=subprocess.PIPE,stderr=subprocess.PIPE)\n",
    "        runicp.wait()\n",
    "        #-------------leer los datos de devuelve en el terminal------\n",
    "        #stdout, stderr = runicp.communicate()\n",
    "        print('ICP finished succesfully')\n",
    "        print('------------------------------------------------------')\n",
    "        #------------------------------------------------------------\n",
    "            \n",
    "        refe2 = pd.read_csv('/home/johan/Documents/Alignment/Points_csv/refe_Out.csv')\n",
    "        refe2 = np.array(refe)\n",
    "        refe2 = refe2[1:refe2.shape[0],:]\n",
    "        print('refe2',refe2.shape)\n",
    "\n",
    "        refetotal = np.vstack((refe,refe2))\n",
    "        print('refetotal',refetotal.shape)                        \n",
    "                        \n",
    "        \n",
    "        \n",
    "        \n",
    " \n",
    "\n",
    "    \n",
    "    "
   ]
  },
  {
   "cell_type": "code",
   "execution_count": null,
   "metadata": {},
   "outputs": [],
   "source": []
  }
 ],
 "metadata": {
  "kernelspec": {
   "display_name": "Python 3",
   "language": "python",
   "name": "python3"
  },
  "language_info": {
   "codemirror_mode": {
    "name": "ipython",
    "version": 3
   },
   "file_extension": ".py",
   "mimetype": "text/x-python",
   "name": "python",
   "nbconvert_exporter": "python",
   "pygments_lexer": "ipython3",
   "version": "3.5.2"
  },
  "varInspector": {
   "cols": {
    "lenName": 16,
    "lenType": 16,
    "lenVar": 40
   },
   "kernels_config": {
    "python": {
     "delete_cmd_postfix": "",
     "delete_cmd_prefix": "del ",
     "library": "var_list.py",
     "varRefreshCmd": "print(var_dic_list())"
    },
    "r": {
     "delete_cmd_postfix": ") ",
     "delete_cmd_prefix": "rm(",
     "library": "var_list.r",
     "varRefreshCmd": "cat(var_dic_list()) "
    }
   },
   "types_to_exclude": [
    "module",
    "function",
    "builtin_function_or_method",
    "instance",
    "_Feature"
   ],
   "window_display": false
  }
 },
 "nbformat": 4,
 "nbformat_minor": 2
}
