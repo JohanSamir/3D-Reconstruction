{
 "cells": [
  {
   "cell_type": "code",
   "execution_count": 2,
   "metadata": {},
   "outputs": [],
   "source": [
    "# Import Libraries\n",
    "import os.path\n",
    "import numpy as np\n",
    "from tensorflow.python.platform import gfile\n",
    "import pypcd\n",
    "import os\n",
    "import subprocess\n",
    "import pandas as pd\n",
    "from pandas import DataFrame\n"
   ]
  },
  {
   "cell_type": "code",
   "execution_count": 3,
   "metadata": {},
   "outputs": [
    {
     "name": "stdout",
     "output_type": "stream",
     "text": [
      "411\n",
      "<class 'str'> /home/johan/Documents/Alignment/Points_csv/pointscsv2954.csv\n"
     ]
    }
   ],
   "source": [
    "# Find number of PointClouds\n",
    "\n",
    "point_dir = '/home/johan/Documents/Alignment/Points_csv/'\n",
    "#se crea un vector vacio para guardar los nombres de las imágenes.\n",
    "file_list = []\n",
    "#se obtienen todos los nombre de las imagenes en la carpeta train que tengan extensión .csv\n",
    "file_glob = os.path.join(point_dir, '*.csv')\n",
    "#se organizan en el vector file_list todos las direcciones de las imágenes \n",
    "#encontrados dentro de la carpeta train\n",
    "file_list.extend(gfile.Glob(file_glob))\n",
    "print(len(file_list))\n",
    "print(type(file_list[0]),file_list[0])"
   ]
  },
  {
   "cell_type": "raw",
   "metadata": {},
   "source": [
    "# refe = pd.read_csv('/home/johan/Documents/Alignment/Points_csv/refe.csv')\n",
    "print (\"refe\", refe.shape)\n",
    "refe = np.array(refe)\n",
    "print (\"refe\", refe.shape)                    \n",
    "    \n",
    "refe2 = pd.read_csv('/home/johan/Documents/Alignment/Points_csv/refe.csv')\n",
    "refe2 = np.array(refe)\n",
    "refe2 = refe2[1:refe2.shape[0],:]\n",
    "print('refe2',refe2.shape)\n",
    "\n",
    "refetotal = np.vstack((refe,refe2))\n",
    "print('refetotal',refetotal.shape)                        \n",
    "                        \n",
    "                        \n",
    "                        "
   ]
  },
  {
   "cell_type": "code",
   "execution_count": 4,
   "metadata": {},
   "outputs": [
    {
     "name": "stdout",
     "output_type": "stream",
     "text": [
      "ICP finished succesfully\n",
      "------------------------------------------------------\n",
      "a: 1\n",
      "refe (23740, 3)\n",
      "refe2 (25321, 3)\n",
      "refe2 (25320, 3)\n",
      "refetotal (49060, 3) <class 'numpy.ndarray'> [['-1.436385154724121094e+00 -5.490767955780029297e-01 -4.120399355888366699e-01'\n",
      "  nan nan]\n",
      " ['-1.230638313293457031e+01 -4.701813220977783203e+00 2.299529016017913818e-01'\n",
      "  nan nan]]\n",
      "ICP finished succesfully\n",
      "------------------------------------------------------\n",
      "a: 2\n",
      "refe (23740, 3)\n",
      "refe2 (25321, 3)\n",
      "refe2 (25320, 3)\n",
      "refetotal (49060, 3) <class 'numpy.ndarray'> [['-1.436385154724121094e+00 -5.490767955780029297e-01 -4.120399355888366699e-01'\n",
      "  nan nan]\n",
      " ['-1.230638313293457031e+01 -4.701813220977783203e+00 2.299529016017913818e-01'\n",
      "  nan nan]]\n",
      "ICP finished succesfully\n",
      "------------------------------------------------------\n",
      "a: 3\n",
      "refe (23740, 3)\n",
      "refe2 (25321, 3)\n",
      "refe2 (25320, 3)\n",
      "refetotal (49060, 3) <class 'numpy.ndarray'> [['-1.436385154724121094e+00 -5.490767955780029297e-01 -4.120399355888366699e-01'\n",
      "  nan nan]\n",
      " ['-1.230638313293457031e+01 -4.701813220977783203e+00 2.299529016017913818e-01'\n",
      "  nan nan]]\n",
      "ICP finished succesfully\n",
      "------------------------------------------------------\n",
      "a: 4\n",
      "refe (23740, 3)\n"
     ]
    },
    {
     "ename": "KeyboardInterrupt",
     "evalue": "",
     "output_type": "error",
     "traceback": [
      "\u001b[0;31m---------------------------------------------------------------------------\u001b[0m",
      "\u001b[0;31mKeyboardInterrupt\u001b[0m                         Traceback (most recent call last)",
      "\u001b[0;32m<ipython-input-4-3d28488f0452>\u001b[0m in \u001b[0;36m<module>\u001b[0;34m()\u001b[0m\n\u001b[1;32m     23\u001b[0m         \u001b[0;31m#runicp = subprocess.Popen([os.path.join(icp_path,\"icp_simple\"),pointcloud1_path,pointcloud2_path],stdout=subprocess.PIPE,stderr=subprocess.PIPE)\u001b[0m\u001b[0;34m\u001b[0m\u001b[0;34m\u001b[0m\u001b[0m\n\u001b[1;32m     24\u001b[0m         \u001b[0mrunicp\u001b[0m \u001b[0;34m=\u001b[0m \u001b[0msubprocess\u001b[0m\u001b[0;34m.\u001b[0m\u001b[0mPopen\u001b[0m\u001b[0;34m(\u001b[0m\u001b[0;34m[\u001b[0m\u001b[0mos\u001b[0m\u001b[0;34m.\u001b[0m\u001b[0mpath\u001b[0m\u001b[0;34m.\u001b[0m\u001b[0mjoin\u001b[0m\u001b[0;34m(\u001b[0m\u001b[0micp_path\u001b[0m\u001b[0;34m,\u001b[0m\u001b[0;34m\"icp_simple\"\u001b[0m\u001b[0;34m)\u001b[0m\u001b[0;34m,\u001b[0m\u001b[0mpointcloud1_path_refe\u001b[0m\u001b[0;34m,\u001b[0m\u001b[0mpointcloud2_path_in\u001b[0m\u001b[0;34m,\u001b[0m\u001b[0;34m'OutPc'\u001b[0m\u001b[0;34m]\u001b[0m\u001b[0;34m,\u001b[0m\u001b[0mstdout\u001b[0m\u001b[0;34m=\u001b[0m\u001b[0msubprocess\u001b[0m\u001b[0;34m.\u001b[0m\u001b[0mPIPE\u001b[0m\u001b[0;34m,\u001b[0m\u001b[0mstderr\u001b[0m\u001b[0;34m=\u001b[0m\u001b[0msubprocess\u001b[0m\u001b[0;34m.\u001b[0m\u001b[0mPIPE\u001b[0m\u001b[0;34m)\u001b[0m\u001b[0;34m\u001b[0m\u001b[0m\n\u001b[0;32m---> 25\u001b[0;31m         \u001b[0mrunicp\u001b[0m\u001b[0;34m.\u001b[0m\u001b[0mwait\u001b[0m\u001b[0;34m(\u001b[0m\u001b[0;34m)\u001b[0m\u001b[0;34m\u001b[0m\u001b[0m\n\u001b[0m\u001b[1;32m     26\u001b[0m         \u001b[0;31m#-------------leer los datos de devuelve en el terminal------\u001b[0m\u001b[0;34m\u001b[0m\u001b[0;34m\u001b[0m\u001b[0m\n\u001b[1;32m     27\u001b[0m         \u001b[0;31m#stdout, stderr = runicp.communicate()\u001b[0m\u001b[0;34m\u001b[0m\u001b[0;34m\u001b[0m\u001b[0m\n",
      "\u001b[0;32m~/anaconda2/envs/tensorflow_py3/lib/python3.5/subprocess.py\u001b[0m in \u001b[0;36mwait\u001b[0;34m(self, timeout, endtime)\u001b[0m\n\u001b[1;32m   1656\u001b[0m                         \u001b[0;32mif\u001b[0m \u001b[0mself\u001b[0m\u001b[0;34m.\u001b[0m\u001b[0mreturncode\u001b[0m \u001b[0;32mis\u001b[0m \u001b[0;32mnot\u001b[0m \u001b[0;32mNone\u001b[0m\u001b[0;34m:\u001b[0m\u001b[0;34m\u001b[0m\u001b[0m\n\u001b[1;32m   1657\u001b[0m                             \u001b[0;32mbreak\u001b[0m  \u001b[0;31m# Another thread waited.\u001b[0m\u001b[0;34m\u001b[0m\u001b[0m\n\u001b[0;32m-> 1658\u001b[0;31m                         \u001b[0;34m(\u001b[0m\u001b[0mpid\u001b[0m\u001b[0;34m,\u001b[0m \u001b[0msts\u001b[0m\u001b[0;34m)\u001b[0m \u001b[0;34m=\u001b[0m \u001b[0mself\u001b[0m\u001b[0;34m.\u001b[0m\u001b[0m_try_wait\u001b[0m\u001b[0;34m(\u001b[0m\u001b[0;36m0\u001b[0m\u001b[0;34m)\u001b[0m\u001b[0;34m\u001b[0m\u001b[0m\n\u001b[0m\u001b[1;32m   1659\u001b[0m                         \u001b[0;31m# Check the pid and loop as waitpid has been known to\u001b[0m\u001b[0;34m\u001b[0m\u001b[0;34m\u001b[0m\u001b[0m\n\u001b[1;32m   1660\u001b[0m                         \u001b[0;31m# return 0 even without WNOHANG in odd situations.\u001b[0m\u001b[0;34m\u001b[0m\u001b[0;34m\u001b[0m\u001b[0m\n",
      "\u001b[0;32m~/anaconda2/envs/tensorflow_py3/lib/python3.5/subprocess.py\u001b[0m in \u001b[0;36m_try_wait\u001b[0;34m(self, wait_flags)\u001b[0m\n\u001b[1;32m   1606\u001b[0m             \u001b[0;34m\"\"\"All callers to this function MUST hold self._waitpid_lock.\"\"\"\u001b[0m\u001b[0;34m\u001b[0m\u001b[0m\n\u001b[1;32m   1607\u001b[0m             \u001b[0;32mtry\u001b[0m\u001b[0;34m:\u001b[0m\u001b[0;34m\u001b[0m\u001b[0m\n\u001b[0;32m-> 1608\u001b[0;31m                 \u001b[0;34m(\u001b[0m\u001b[0mpid\u001b[0m\u001b[0;34m,\u001b[0m \u001b[0msts\u001b[0m\u001b[0;34m)\u001b[0m \u001b[0;34m=\u001b[0m \u001b[0mos\u001b[0m\u001b[0;34m.\u001b[0m\u001b[0mwaitpid\u001b[0m\u001b[0;34m(\u001b[0m\u001b[0mself\u001b[0m\u001b[0;34m.\u001b[0m\u001b[0mpid\u001b[0m\u001b[0;34m,\u001b[0m \u001b[0mwait_flags\u001b[0m\u001b[0;34m)\u001b[0m\u001b[0;34m\u001b[0m\u001b[0m\n\u001b[0m\u001b[1;32m   1609\u001b[0m             \u001b[0;32mexcept\u001b[0m \u001b[0mChildProcessError\u001b[0m\u001b[0;34m:\u001b[0m\u001b[0;34m\u001b[0m\u001b[0m\n\u001b[1;32m   1610\u001b[0m                 \u001b[0;31m# This happens if SIGCLD is set to be ignored or waiting\u001b[0m\u001b[0;34m\u001b[0m\u001b[0;34m\u001b[0m\u001b[0m\n",
      "\u001b[0;31mKeyboardInterrupt\u001b[0m: "
     ]
    }
   ],
   "source": [
    "# Alignt PCs\n",
    "#para cada pointcloud dentro del vector file_list\n",
    "a = 0 \n",
    "refetotal = []\n",
    "for point_dir in file_list:\n",
    "    if a == 0:\n",
    "        refe = pd.read_csv(point_dir)\n",
    "        df = DataFrame(refe, columns= ['x', 'y','z'])\n",
    "        refetotal = np.append((refetotal,refe), axis=0))\n",
    "        export_csv = df.to_csv ('/home/johan/Documents/Alignment/Points_csv/refe.csv', index = None, header=True) #Don't forget to add '.csv' at the end of the path\n",
    "        #print (df)\n",
    "        print('ICP finished succesfully')\n",
    "        print('------------------------------------------------------')\n",
    "        \n",
    "    else:\n",
    "        pointcloud1_path_refe = \"/home/johan/Documents/Alignment/Points_csv/refe.csv\"\n",
    "        refe = pd.read_csv(pointcloud1_path_refe)\n",
    "        refe = np.array(refe)\n",
    "        print (\"refe\", refe.shape) \n",
    "        \n",
    "        pointcloud2_path_in = point_dir\n",
    "        icp_path=\"/home/johan/Libraries/libpointmatcher/build/examples\"\n",
    "\n",
    "        #--------------- correr el ejecutable de c++ ------------------\n",
    "        #runicp = subprocess.Popen([os.path.join(icp_path,\"icp_simple\"),pointcloud1_path,pointcloud2_path],stdout=subprocess.PIPE,stderr=subprocess.PIPE)\n",
    "        runicp = subprocess.Popen([os.path.join(icp_path,\"icp_simple\"),pointcloud1_path_refe,pointcloud2_path_in,'OutPc'],stdout=subprocess.PIPE,stderr=subprocess.PIPE)\n",
    "        runicp.wait()\n",
    "        #-------------leer los datos de devuelve en el terminal------\n",
    "        #stdout, stderr = runicp.communicate()\n",
    "        \n",
    "        #------------------------------------------------------------\n",
    "            \n",
    "        refe2 = pd.read_csv('/home/johan/repos/GitHub/3D-Reconstruction/refe_Out.csv')\n",
    "        refe2 = np.array(refe2)\n",
    "        refetotal = DataFrame(refe2, columns= ['x', 'y','z'])\n",
    "        print('refe2',refe2.shape)\n",
    "        refe2 = refe2[1:refe2.shape[0],:]\n",
    "        print('refe2',refe2.shape)\n",
    "        #concatena = np.vstack((refe,refe2))\n",
    "        refetotal = np.append((refetotal,refe2), axis=0))\n",
    "        print('refetotal',refetotal.shape, type(refetotal), refetotal[0:2,:])\n",
    "        export_csv = df.to_csv ('/home/johan/Documents/Alignment/Points_csv/refe2.csv', index = None, header=True) \n",
    "        print('ICP finished succesfully')\n",
    "        print('------------------------------------------------------')\n",
    "    \n",
    "    a = a +1\n",
    "    print('a:',a)\n",
    "    \n",
    "    "
   ]
  },
  {
   "cell_type": "code",
   "execution_count": null,
   "metadata": {},
   "outputs": [],
   "source": []
  }
 ],
 "metadata": {
  "kernelspec": {
   "display_name": "Python 3",
   "language": "python",
   "name": "python3"
  },
  "language_info": {
   "codemirror_mode": {
    "name": "ipython",
    "version": 3
   },
   "file_extension": ".py",
   "mimetype": "text/x-python",
   "name": "python",
   "nbconvert_exporter": "python",
   "pygments_lexer": "ipython3",
   "version": "3.5.2"
  },
  "varInspector": {
   "cols": {
    "lenName": 16,
    "lenType": 16,
    "lenVar": 40
   },
   "kernels_config": {
    "python": {
     "delete_cmd_postfix": "",
     "delete_cmd_prefix": "del ",
     "library": "var_list.py",
     "varRefreshCmd": "print(var_dic_list())"
    },
    "r": {
     "delete_cmd_postfix": ") ",
     "delete_cmd_prefix": "rm(",
     "library": "var_list.r",
     "varRefreshCmd": "cat(var_dic_list()) "
    }
   },
   "types_to_exclude": [
    "module",
    "function",
    "builtin_function_or_method",
    "instance",
    "_Feature"
   ],
   "window_display": false
  }
 },
 "nbformat": 4,
 "nbformat_minor": 2
}
