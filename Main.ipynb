{
 "cells": [
  {
   "cell_type": "code",
   "execution_count": null,
   "metadata": {},
   "outputs": [],
   "source": [
    "# Import Libraries\n",
    "import os.path\n",
    "import numpy as np\n",
    "from tensorflow.python.platform import gfile\n",
    "import pypcd\n",
    "import os\n",
    "import subprocess\n",
    "import pandas as pd\n",
    "from pandas import DataFrame"
   ]
  },
  {
   "cell_type": "code",
   "execution_count": null,
   "metadata": {},
   "outputs": [],
   "source": [
    "# Find number of PointClouds\n",
    "point_dir = '/home/johan/Documents/Alignment/Points_csv/'\n",
    "#se crea un vector vacio para guardar los nombres de las imágenes.\n",
    "file_list = []\n",
    "#se obtienen todos los nombre de las imagenes en la carpeta train que tengan extensión .csv\n",
    "file_glob = os.path.join(point_dir, '*.csv')\n",
    "#se organizan en el vector file_list todos las direcciones de las imágenes \n",
    "#encontrados dentro de la carpeta train\n",
    "file_list.extend(gfile.Glob(file_glob))\n",
    "file_list = np.sort(file_list)\n",
    "#kind : {‘quicksort’, ‘mergesort’, ‘C’, ‘stable’}\n",
    "print(len(file_list))\n",
    "print(type(file_list[0]),file_list[0:8])"
   ]
  },
  {
   "cell_type": "raw",
   "metadata": {},
   "source": [
    "# refe = pd.read_csv('/home/johan/Documents/Alignment/Points_csv/refe.csv')\n",
    "print (\"refe\", refe.shape)\n",
    "refe = np.array(refe)\n",
    "print (\"refe\", refe.shape)                    \n",
    "    \n",
    "refe2 = pd.read_csv('/home/johan/Documents/Alignment/Points_csv/refe.csv')\n",
    "refe2 = np.array(refe)\n",
    "refe2 = refe2[1:refe2.shape[0],:]\n",
    "print('refe2',refe2.shape)\n",
    "\n",
    "refetotal = np.vstack((refe,refe2))\n",
    "print('refetotal',refetotal.shape)                       "
   ]
  },
  {
   "cell_type": "code",
   "execution_count": null,
   "metadata": {},
   "outputs": [],
   "source": [
    "# Alignt PCs\n",
    "#para cada pointcloud dentro del vector file_list\n",
    "a = 0 \n",
    "refetotal = []\n",
    "for point_dir in file_list:\n",
    "    if a == 0:\n",
    "        refe = pd.read_csv(point_dir)\n",
    "        df = DataFrame(refe, columns= ['x', 'y','z'])\n",
    "        export_csv = df.to_csv ('/home/johan/Documents/Alignment/Points_csv/refe.csv', index = None, header=True) #Don't forget to add '.csv' at the end of the path\n",
    "        #print ('a0:\\n refe',df.shape)\n",
    "        #print('ICP finished succesfully')\n",
    "        #print('------------------------------------------------------')\n",
    "        \n",
    "    else:\n",
    "        pointcloud1_path_refe = \"/home/johan/Documents/Alignment/Points_csv/refe.csv\"\n",
    "        refe = pd.read_csv(pointcloud1_path_refe)\n",
    "        refe = np.array(refe)\n",
    "        #print (\"refe\", refe.shape) \n",
    "        \n",
    "        pointcloud2_path_in = point_dir\n",
    "        icp_path=\"/home/johan/Libraries/libpointmatcher/build/examples\"\n",
    "\n",
    "        #--------------- correr el ejecutable de c++ ------------------\n",
    "        #runicp = subprocess.Popen([os.path.join(icp_path,\"icp_simple\"),pointcloud1_path,pointcloud2_path],stdout=subprocess.PIPE,stderr=subprocess.PIPE)\n",
    "        runicp = subprocess.Popen([os.path.join(icp_path,\"icp_simple\"),pointcloud1_path_refe,pointcloud2_path_in,'OutPc'],stdout=subprocess.PIPE,stderr=subprocess.PIPE)\n",
    "        runicp.wait()\n",
    "        #-------------leer los datos de devuelve en el terminal------\n",
    "        #stdout, stderr = runicp.communicate()\n",
    "        \n",
    "        #------------------------------------------------------------\n",
    "        refe2 = pd.read_csv('/home/johan/repos/GitHub/3D-Reconstruction/refe_OutPc.csv')\n",
    "        refetotal = DataFrame(refe2, columns= ['x','y','z'])\n",
    "        refetotal = np.array(refetotal)\n",
    "        #print('refe_OutPc',refetotal.shape, type(refetotal))\n",
    "        refetotal = refetotal[1:refetotal.shape[0],:]\n",
    "        #print('refe_OutPc-WOut[x,y,z]',refetotal.shape)\n",
    "        refetotal_l = np.vstack((refe,refetotal))\n",
    "        refetotal = DataFrame(refetotal_l) \n",
    "        #print('Acumulado',refetotal.shape)\n",
    "        export_csv = refetotal.to_csv ('/home/johan/Documents/Alignment/Points_csv/refe.csv', index = None, header=True) \n",
    "        #print('ICP finished succesfully')\n",
    "        #print('------------------------------------------------------') \n",
    "    \n",
    "    a = a +1\n",
    "    print('a:',a)"
   ]
  },
  {
   "cell_type": "markdown",
   "metadata": {
    "heading_collapsed": true
   },
   "source": [
    "## Running ICP"
   ]
  },
  {
   "cell_type": "code",
   "execution_count": 1,
   "metadata": {
    "hidden": true
   },
   "outputs": [],
   "source": [
    "import numpy as np\n",
    "#from open3d import *\n",
    "import pypcd\n",
    "import os\n",
    "import subprocess"
   ]
  },
  {
   "cell_type": "code",
   "execution_count": 41,
   "metadata": {
    "hidden": true
   },
   "outputs": [
    {
     "name": "stdout",
     "output_type": "stream",
     "text": [
      "b'   0.996618   0.0821525 -0.00170916     0.97926\\n -0.0821504    0.996619  0.00122216 -0.00706542\\n 0.00180378 -0.00107762    0.999998  0.00148535\\n          0           0           0           1\\n' \n",
      "\n",
      "[[ 0.996618    0.0821525  -0.00170916  0.97926   ]\n",
      " [-0.0821504   0.996619    0.00122216 -0.00706542]\n",
      " [ 0.00180378 -0.00107762  0.999998    0.00148535]\n",
      " [ 0.          0.          0.          1.        ]] (4, 4)\n"
     ]
    }
   ],
   "source": [
    "if __name__ == '__main__':\n",
    "\n",
    "    #------- rutas hacia las nubes de puntos y el ejecutable----------\n",
    "    # .cpp file: addres /home/johan/Libraries/libpointmatcher/examples\n",
    "    icp_path=\"/home/johan/Libraries/libpointmatcher/build/examples\"\n",
    "    pointcloud1_path=\"/home/johan/repos/GitHub/3D-Reconstruction/Dataset_csv/pointscsv1.csv\"\n",
    "    pointcloud2_path=\"/home/johan/repos/GitHub/3D-Reconstruction/Dataset_csv/pointscsv137.csv\"\n",
    "\n",
    "    #--------------- correr el ejecutable de c++ ------------------\n",
    "    #runicp = subprocess.Popen([os.path.join(icp_path,\"icp_simple\"),pointcloud1_path,pointcloud2_path],stdout=subprocess.PIPE,stderr=subprocess.PIPE)\n",
    "    runicp = subprocess.Popen([os.path.join(icp_path,\"icp_simple\"),pointcloud1_path,pointcloud2_path,'Out'],stdout=subprocess.PIPE,stderr=subprocess.PIPE)\n",
    "    runicp.wait()\n",
    "    \n",
    "    stdout, stderr = runicp.communicate()\n",
    "    print(stdout,'\\n')\n",
    "    \n",
    "    # bytes to str, alternative\n",
    "    a = np.matrix(str(stdout, encoding='ascii'))\n",
    "    a = a.reshape(4,4)\n",
    "    print(a, a.shape)"
   ]
  },
  {
   "cell_type": "markdown",
   "metadata": {},
   "source": [
    "## Final Code ICP-ROS"
   ]
  },
  {
   "cell_type": "code",
   "execution_count": 2,
   "metadata": {},
   "outputs": [],
   "source": [
    "import rospy\n",
    "import message_filters\n",
    "from sensor_msgs.msg import Image, PointCloud2\n",
    "import sys\n",
    "from cv_bridge import CvBridge, CvBridgeError\n",
    "#import cv2\n",
    "import numpy as np\n",
    "import laser_geometry.laser_geometry as lg\n",
    "import sensor_msgs.point_cloud2 as pc2\n",
    "import open3d as opn3"
   ]
  },
  {
   "cell_type": "code",
   "execution_count": null,
   "metadata": {},
   "outputs": [],
   "source": [
    "class synchronizer:\n",
    "\tdef __init__(self):\n",
    "\t\t#self.laserProj = LaserProjection()\n",
    "\t\tself.bridge = CvBridge()\n",
    "\t\t#self.image_sub = message_filters.Subscriber('/left/image_rect_color', Image)\n",
    "        self.pc_pub = message_filters.Publisher('/Dense',PointCloud2,queue_size=2)\n",
    "\t\tself.pc_sub = message_filters.Subscriber('/kitti/velo/pointcloud', PointCloud2,self.Callback)\n",
    "\t\t\n",
    "\tdef callback(self, pointcloud):\n",
    "         cloud_pub.publish(pointcloud)\n",
    "        \n",
    "\t\t\n",
    "def main(args):\n",
    "  print('Starting...')\n",
    "  rospy.init_node('sync_node', anonymous=True)\n",
    "  rospy.loginfo(\"sync_node on\")\n",
    "  #sc = synchronizer()\n",
    "  \n",
    "  try:\n",
    "    rospy.spin()\n",
    "  except KeyboardInterrupt:\n",
    "    print(\"Shutting down\")\n",
    "\n",
    "if __name__ == '__main__':\n",
    "\t\n",
    "    main(sys.argv)"
   ]
  }
 ],
 "metadata": {
  "kernelspec": {
   "display_name": "Python 3",
   "language": "python",
   "name": "python3"
  },
  "language_info": {
   "codemirror_mode": {
    "name": "ipython",
    "version": 3
   },
   "file_extension": ".py",
   "mimetype": "text/x-python",
   "name": "python",
   "nbconvert_exporter": "python",
   "pygments_lexer": "ipython3",
   "version": "3.5.2"
  },
  "varInspector": {
   "cols": {
    "lenName": 16,
    "lenType": 16,
    "lenVar": 40
   },
   "kernels_config": {
    "python": {
     "delete_cmd_postfix": "",
     "delete_cmd_prefix": "del ",
     "library": "var_list.py",
     "varRefreshCmd": "print(var_dic_list())"
    },
    "r": {
     "delete_cmd_postfix": ") ",
     "delete_cmd_prefix": "rm(",
     "library": "var_list.r",
     "varRefreshCmd": "cat(var_dic_list()) "
    }
   },
   "types_to_exclude": [
    "module",
    "function",
    "builtin_function_or_method",
    "instance",
    "_Feature"
   ],
   "window_display": false
  }
 },
 "nbformat": 4,
 "nbformat_minor": 2
}
