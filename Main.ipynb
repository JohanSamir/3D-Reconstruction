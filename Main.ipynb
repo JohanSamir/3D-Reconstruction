{
 "cells": [
  {
   "cell_type": "code",
   "execution_count": 14,
   "metadata": {},
   "outputs": [],
   "source": [
    "# Import Libraries\n",
    "import os.path\n",
    "import numpy as np\n",
    "from tensorflow.python.platform import gfile\n",
    "import pypcd\n",
    "import os\n",
    "import subprocess\n",
    "import pandas as pd\n",
    "from pandas import DataFrame\n"
   ]
  },
  {
   "cell_type": "code",
   "execution_count": 15,
   "metadata": {},
   "outputs": [
    {
     "name": "stdout",
     "output_type": "stream",
     "text": [
      "410\n",
      "<class 'str'> /home/johan/Documents/Alignment/Points_csv/pointscsv2954.csv\n"
     ]
    }
   ],
   "source": [
    "# Find number of PointClouds\n",
    "\n",
    "point_dir = '/home/johan/Documents/Alignment/Points_csv/'\n",
    "#se crea un vector vacio para guardar los nombres de las imágenes.\n",
    "file_list = []\n",
    "#se obtienen todos los nombre de las imagenes en la carpeta train que tengan extensión .csv\n",
    "file_glob = os.path.join(point_dir, '*.csv')\n",
    "#se organizan en el vector file_list todos las direcciones de las imágenes \n",
    "#encontrados dentro de la carpeta train\n",
    "file_list.extend(gfile.Glob(file_glob))\n",
    "print(len(file_list))\n",
    "print(type(file_list[0]),file_list[0])"
   ]
  },
  {
   "cell_type": "raw",
   "metadata": {},
   "source": [
    "# refe = pd.read_csv('/home/johan/Documents/Alignment/Points_csv/refe.csv')\n",
    "print (\"refe\", refe.shape)\n",
    "refe = np.array(refe)\n",
    "print (\"refe\", refe.shape)                    \n",
    "    \n",
    "refe2 = pd.read_csv('/home/johan/Documents/Alignment/Points_csv/refe.csv')\n",
    "refe2 = np.array(refe)\n",
    "refe2 = refe2[1:refe2.shape[0],:]\n",
    "print('refe2',refe2.shape)\n",
    "\n",
    "refetotal = np.vstack((refe,refe2))\n",
    "print('refetotal',refetotal.shape)                        \n",
    "                        \n",
    "                        \n",
    "                        "
   ]
  },
  {
   "cell_type": "code",
   "execution_count": 16,
   "metadata": {},
   "outputs": [
    {
     "name": "stdout",
     "output_type": "stream",
     "text": [
      "a: 1\n",
      "refe (23740, 3)\n",
      "ICP finished succesfully\n",
      "------------------------------------------------------\n",
      "refe2 (25320, 3)\n",
      "refetotal (49060, 3)\n"
     ]
    },
    {
     "ename": "TypeError",
     "evalue": "Mismatch between array dtype ('object') and format specifier ('%.18e %.18e %.18e')",
     "output_type": "error",
     "traceback": [
      "\u001b[0;31m---------------------------------------------------------------------------\u001b[0m",
      "\u001b[0;31mTypeError\u001b[0m                                 Traceback (most recent call last)",
      "\u001b[0;32m~/.local/lib/python3.5/site-packages/numpy/lib/npyio.py\u001b[0m in \u001b[0;36msavetxt\u001b[0;34m(fname, X, fmt, delimiter, newline, header, footer, comments, encoding)\u001b[0m\n\u001b[1;32m   1370\u001b[0m                 \u001b[0;32mtry\u001b[0m\u001b[0;34m:\u001b[0m\u001b[0;34m\u001b[0m\u001b[0m\n\u001b[0;32m-> 1371\u001b[0;31m                     \u001b[0mv\u001b[0m \u001b[0;34m=\u001b[0m \u001b[0mformat\u001b[0m \u001b[0;34m%\u001b[0m \u001b[0mtuple\u001b[0m\u001b[0;34m(\u001b[0m\u001b[0mrow\u001b[0m\u001b[0;34m)\u001b[0m \u001b[0;34m+\u001b[0m \u001b[0mnewline\u001b[0m\u001b[0;34m\u001b[0m\u001b[0m\n\u001b[0m\u001b[1;32m   1372\u001b[0m                 \u001b[0;32mexcept\u001b[0m \u001b[0mTypeError\u001b[0m\u001b[0;34m:\u001b[0m\u001b[0;34m\u001b[0m\u001b[0m\n",
      "\u001b[0;31mTypeError\u001b[0m: a float is required",
      "\nDuring handling of the above exception, another exception occurred:\n",
      "\u001b[0;31mTypeError\u001b[0m                                 Traceback (most recent call last)",
      "\u001b[0;32m<ipython-input-16-2a68db1d4d6d>\u001b[0m in \u001b[0;36m<module>\u001b[0;34m()\u001b[0m\n\u001b[1;32m     35\u001b[0m         \u001b[0mrefetotal\u001b[0m \u001b[0;34m=\u001b[0m \u001b[0mnp\u001b[0m\u001b[0;34m.\u001b[0m\u001b[0mvstack\u001b[0m\u001b[0;34m(\u001b[0m\u001b[0;34m(\u001b[0m\u001b[0mrefe\u001b[0m\u001b[0;34m,\u001b[0m\u001b[0mrefe2\u001b[0m\u001b[0;34m)\u001b[0m\u001b[0;34m)\u001b[0m\u001b[0;34m\u001b[0m\u001b[0m\n\u001b[1;32m     36\u001b[0m         \u001b[0mprint\u001b[0m\u001b[0;34m(\u001b[0m\u001b[0;34m'refetotal'\u001b[0m\u001b[0;34m,\u001b[0m\u001b[0mrefetotal\u001b[0m\u001b[0;34m.\u001b[0m\u001b[0mshape\u001b[0m\u001b[0;34m)\u001b[0m\u001b[0;34m\u001b[0m\u001b[0m\n\u001b[0;32m---> 37\u001b[0;31m         \u001b[0mnp\u001b[0m\u001b[0;34m.\u001b[0m\u001b[0msavetxt\u001b[0m\u001b[0;34m(\u001b[0m\u001b[0;34m'/home/johan/Documents/Alignment/Points_csv/refe.csv'\u001b[0m\u001b[0;34m,\u001b[0m \u001b[0mrefetotal\u001b[0m\u001b[0;34m)\u001b[0m\u001b[0;34m\u001b[0m\u001b[0m\n\u001b[0m\u001b[1;32m     38\u001b[0m \u001b[0;34m\u001b[0m\u001b[0m\n\u001b[1;32m     39\u001b[0m     \u001b[0ma\u001b[0m \u001b[0;34m=\u001b[0m \u001b[0ma\u001b[0m \u001b[0;34m+\u001b[0m\u001b[0;36m1\u001b[0m\u001b[0;34m\u001b[0m\u001b[0m\n",
      "\u001b[0;32m~/.local/lib/python3.5/site-packages/numpy/lib/npyio.py\u001b[0m in \u001b[0;36msavetxt\u001b[0;34m(fname, X, fmt, delimiter, newline, header, footer, comments, encoding)\u001b[0m\n\u001b[1;32m   1373\u001b[0m                     raise TypeError(\"Mismatch between array dtype ('%s') and \"\n\u001b[1;32m   1374\u001b[0m                                     \u001b[0;34m\"format specifier ('%s')\"\u001b[0m\u001b[0;34m\u001b[0m\u001b[0m\n\u001b[0;32m-> 1375\u001b[0;31m                                     % (str(X.dtype), format))\n\u001b[0m\u001b[1;32m   1376\u001b[0m                 \u001b[0mfh\u001b[0m\u001b[0;34m.\u001b[0m\u001b[0mwrite\u001b[0m\u001b[0;34m(\u001b[0m\u001b[0mv\u001b[0m\u001b[0;34m)\u001b[0m\u001b[0;34m\u001b[0m\u001b[0m\n\u001b[1;32m   1377\u001b[0m \u001b[0;34m\u001b[0m\u001b[0m\n",
      "\u001b[0;31mTypeError\u001b[0m: Mismatch between array dtype ('object') and format specifier ('%.18e %.18e %.18e')"
     ]
    }
   ],
   "source": [
    "# Alignt PCs\n",
    "#para cada pointcloud dentro del vector file_list\n",
    "a = 0 \n",
    "for point_dir in file_list:\n",
    "    if a == 0:\n",
    "        refe = pd.read_csv(point_dir)\n",
    "        df = DataFrame(refe, columns= ['x', 'y','z'])\n",
    "        export_csv = df.to_csv ('/home/johan/Documents/Alignment/Points_csv/refe.csv', index = None, header=True) #Don't forget to add '.csv' at the end of the path\n",
    "        #print (df)\n",
    "        \n",
    "    else:\n",
    "        pointcloud1_path_refe = \"/home/johan/Documents/Alignment/Points_csv/refe.csv\"\n",
    "        refe = pd.read_csv(pointcloud1_path_refe)\n",
    "        refe = np.array(refe)\n",
    "        print (\"refe\", refe.shape) \n",
    "        \n",
    "        pointcloud2_path_in = point_dir\n",
    "        icp_path=\"/home/johan/Libraries/libpointmatcher/build/examples\"\n",
    "\n",
    "        #--------------- correr el ejecutable de c++ ------------------\n",
    "        #runicp = subprocess.Popen([os.path.join(icp_path,\"icp_simple\"),pointcloud1_path,pointcloud2_path],stdout=subprocess.PIPE,stderr=subprocess.PIPE)\n",
    "        runicp = subprocess.Popen([os.path.join(icp_path,\"icp_simple\"),pointcloud1_path_refe,pointcloud2_path_in,'OutPc'],stdout=subprocess.PIPE,stderr=subprocess.PIPE)\n",
    "        runicp.wait()\n",
    "        #-------------leer los datos de devuelve en el terminal------\n",
    "        #stdout, stderr = runicp.communicate()\n",
    "        print('ICP finished succesfully')\n",
    "        print('------------------------------------------------------')\n",
    "        #------------------------------------------------------------\n",
    "            \n",
    "        refe2 = pd.read_csv('/home/johan/repos/GitHub/3D-Reconstruction/refe_Out.csv')\n",
    "        refe2 = np.array(refe2)\n",
    "        refe2 = refe2[1:refe2.shape[0],:]\n",
    "        print('refe2',refe2.shape)\n",
    "\n",
    "        refetotal = np.vstack((refe,refe2))\n",
    "        print('refetotal',refetotal.shape)\n",
    "        np.savetxt('/home/johan/Documents/Alignment/Points_csv/refe.csv', refetotal)\n",
    "\n",
    "    \n",
    "    a = a +1\n",
    "    print('a:',a)\n",
    "        \n",
    "        \n",
    "        \n",
    " \n",
    "\n",
    "    \n",
    "    "
   ]
  },
  {
   "cell_type": "code",
   "execution_count": null,
   "metadata": {},
   "outputs": [],
   "source": []
  }
 ],
 "metadata": {
  "kernelspec": {
   "display_name": "Python 3",
   "language": "python",
   "name": "python3"
  },
  "language_info": {
   "codemirror_mode": {
    "name": "ipython",
    "version": 3
   },
   "file_extension": ".py",
   "mimetype": "text/x-python",
   "name": "python",
   "nbconvert_exporter": "python",
   "pygments_lexer": "ipython3",
   "version": "3.5.2"
  },
  "varInspector": {
   "cols": {
    "lenName": 16,
    "lenType": 16,
    "lenVar": 40
   },
   "kernels_config": {
    "python": {
     "delete_cmd_postfix": "",
     "delete_cmd_prefix": "del ",
     "library": "var_list.py",
     "varRefreshCmd": "print(var_dic_list())"
    },
    "r": {
     "delete_cmd_postfix": ") ",
     "delete_cmd_prefix": "rm(",
     "library": "var_list.r",
     "varRefreshCmd": "cat(var_dic_list()) "
    }
   },
   "types_to_exclude": [
    "module",
    "function",
    "builtin_function_or_method",
    "instance",
    "_Feature"
   ],
   "window_display": false
  }
 },
 "nbformat": 4,
 "nbformat_minor": 2
}
