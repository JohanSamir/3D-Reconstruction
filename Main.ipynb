{
 "cells": [
  {
   "cell_type": "markdown",
   "metadata": {
    "heading_collapsed": true
   },
   "source": [
    "## First steps"
   ]
  },
  {
   "cell_type": "code",
   "execution_count": 1,
   "metadata": {
    "hidden": true
   },
   "outputs": [],
   "source": [
    "# Import Libraries\n",
    "import os.path\n",
    "import numpy as np\n",
    "from tensorflow.python.platform import gfile\n",
    "import pypcd\n",
    "import os\n",
    "import subprocess\n",
    "import pandas as pd\n",
    "from pandas import DataFrame"
   ]
  },
  {
   "cell_type": "code",
   "execution_count": 2,
   "metadata": {
    "hidden": true
   },
   "outputs": [
    {
     "name": "stdout",
     "output_type": "stream",
     "text": [
      "456\n",
      "<class 'numpy.str_'> ['/home/johan/Documents/Alignment/Points_csv/pointscsv00001.csv'\n",
      " '/home/johan/Documents/Alignment/Points_csv/pointscsv00002.csv'\n",
      " '/home/johan/Documents/Alignment/Points_csv/pointscsv00004.csv'\n",
      " '/home/johan/Documents/Alignment/Points_csv/pointscsv00007.csv'\n",
      " '/home/johan/Documents/Alignment/Points_csv/pointscsv00010.csv'\n",
      " '/home/johan/Documents/Alignment/Points_csv/pointscsv00013.csv'\n",
      " '/home/johan/Documents/Alignment/Points_csv/pointscsv00016.csv'\n",
      " '/home/johan/Documents/Alignment/Points_csv/pointscsv00025.csv']\n"
     ]
    }
   ],
   "source": [
    "# Find number of PointClouds\n",
    "point_dir = '/home/johan/Documents/Alignment/Points_csv/'\n",
    "#se crea un vector vacio para guardar los nombres de las imágenes.\n",
    "file_list = []\n",
    "#se obtienen todos los nombre de las imagenes en la carpeta train que tengan extensión .csv\n",
    "file_glob = os.path.join(point_dir, '*.csv')\n",
    "#se organizan en el vector file_list todos las direcciones de las imágenes \n",
    "#encontrados dentro de la carpeta train\n",
    "file_list.extend(gfile.Glob(file_glob))\n",
    "file_list = np.sort(file_list)\n",
    "#kind : {‘quicksort’, ‘mergesort’, ‘C’, ‘stable’}\n",
    "print(len(file_list))\n",
    "print(type(file_list[0]),file_list[0:8])"
   ]
  },
  {
   "cell_type": "raw",
   "metadata": {
    "hidden": true
   },
   "source": [
    "# refe = pd.read_csv('/home/johan/Documents/Alignment/Points_csv/refe.csv')\n",
    "print (\"refe\", refe.shape)\n",
    "refe = np.array(refe)\n",
    "print (\"refe\", refe.shape)                    \n",
    "    \n",
    "refe2 = pd.read_csv('/home/johan/Documents/Alignment/Points_csv/refe.csv')\n",
    "refe2 = np.array(refe)\n",
    "refe2 = refe2[1:refe2.shape[0],:]\n",
    "print('refe2',refe2.shape)\n",
    "\n",
    "refetotal = np.vstack((refe,refe2))\n",
    "print('refetotal',refetotal.shape)                       "
   ]
  },
  {
   "cell_type": "code",
   "execution_count": 10,
   "metadata": {
    "hidden": true
   },
   "outputs": [
    {
     "name": "stdout",
     "output_type": "stream",
     "text": [
      "/home/johan/Documents/Alignment/Points_csv/pointscsv00001.csv\n",
      "/home/johan/Documents/Alignment/Points_csv/pointscsv00002.csv\n",
      "/home/johan/Documents/Alignment/Points_csv/pointscsv00004.csv\n",
      "/home/johan/Documents/Alignment/Points_csv/pointscsv00007.csv\n",
      "/home/johan/Documents/Alignment/Points_csv/pointscsv00010.csv\n",
      "/home/johan/Documents/Alignment/Points_csv/pointscsv00013.csv\n",
      "/home/johan/Documents/Alignment/Points_csv/pointscsv00016.csv\n",
      "/home/johan/Documents/Alignment/Points_csv/pointscsv00025.csv\n",
      "/home/johan/Documents/Alignment/Points_csv/pointscsv00034.csv\n",
      "/home/johan/Documents/Alignment/Points_csv/pointscsv00037.csv\n",
      "\n",
      "\n",
      "/home/johan/Documents/Alignment/Points_csv/pointscsv00001.csv\n",
      "/home/johan/Documents/Alignment/Points_csv/pointscsv00004.csv\n",
      "/home/johan/Documents/Alignment/Points_csv/pointscsv00010.csv\n"
     ]
    }
   ],
   "source": [
    "for point_dir in file_list[0:10]:\n",
    "    print(point_dir)\n",
    "print('\\n')\n",
    "for point_dir in file_list[0:5:2]:\n",
    "    print(point_dir)"
   ]
  },
  {
   "cell_type": "code",
   "execution_count": null,
   "metadata": {
    "hidden": true
   },
   "outputs": [],
   "source": [
    "# Alignt PCs\n",
    "#para cada pointcloud dentro del vector file_list\n",
    "a = 0 \n",
    "refetotal = []\n",
    "for point_dir in file_list:\n",
    "    if a == 0:\n",
    "        refe = pd.read_csv(point_dir)\n",
    "        df = DataFrame(refe, columns= ['x', 'y','z'])\n",
    "        export_csv = df.to_csv ('/home/johan/Documents/Alignment/Points_csv/refe.csv', index = None, header=True) #Don't forget to add '.csv' at the end of the path\n",
    "        #print ('a0:\\n refe',df.shape)\n",
    "        #print('ICP finished succesfully')\n",
    "        #print('------------------------------------------------------')\n",
    "        \n",
    "    else:\n",
    "        pointcloud1_path_refe = \"/home/johan/Documents/Alignment/Points_csv/refe.csv\"\n",
    "        refe = pd.read_csv(pointcloud1_path_refe)\n",
    "        refe = np.array(refe)\n",
    "        #print (\"refe\", refe.shape) \n",
    "        \n",
    "        pointcloud2_path_in = point_dir\n",
    "        icp_path=\"/home/johan/Libraries/libpointmatcher/build/examples\"\n",
    "\n",
    "        #--------------- correr el ejecutable de c++ ------------------\n",
    "        #runicp = subprocess.Popen([os.path.join(icp_path,\"icp_simple\"),pointcloud1_path,pointcloud2_path],stdout=subprocess.PIPE,stderr=subprocess.PIPE)\n",
    "        runicp = subprocess.Popen([os.path.join(icp_path,\"icp_simple\"),pointcloud1_path_refe,pointcloud2_path_in,'OutPc'],stdout=subprocess.PIPE,stderr=subprocess.PIPE)\n",
    "        runicp.wait()\n",
    "        #-------------leer los datos de devuelve en el terminal------\n",
    "        #stdout, stderr = runicp.communicate()\n",
    "        \n",
    "        #------------------------------------------------------------\n",
    "        refe2 = pd.read_csv('/home/johan/repos/GitHub/3D-Reconstruction/refe_OutPc.csv')\n",
    "        refetotal = DataFrame(refe2, columns= ['x','y','z'])\n",
    "        refetotal = np.array(refetotal)\n",
    "        #print('refe_OutPc',refetotal.shape, type(refetotal))\n",
    "        refetotal = refetotal[1:refetotal.shape[0],:]\n",
    "        #print('refe_OutPc-WOut[x,y,z]',refetotal.shape)\n",
    "        refetotal_l = np.vstack((refe,refetotal))\n",
    "        refetotal = DataFrame(refetotal_l) \n",
    "        #print('Acumulado',refetotal.shape)\n",
    "        export_csv = refetotal.to_csv ('/home/johan/Documents/Alignment/Points_csv/refe.csv', index = None, header=True) \n",
    "        #print('ICP finished succesfully')\n",
    "        #print('------------------------------------------------------') \n",
    "    \n",
    "    a = a +1\n",
    "    print('a:',a)"
   ]
  },
  {
   "cell_type": "markdown",
   "metadata": {
    "heading_collapsed": true
   },
   "source": [
    "## Running ICP"
   ]
  },
  {
   "cell_type": "code",
   "execution_count": 1,
   "metadata": {
    "hidden": true
   },
   "outputs": [],
   "source": [
    "import numpy as np\n",
    "#from open3d import *\n",
    "import pypcd\n",
    "import os\n",
    "import subprocess"
   ]
  },
  {
   "cell_type": "code",
   "execution_count": 5,
   "metadata": {
    "hidden": true
   },
   "outputs": [
    {
     "name": "stdout",
     "output_type": "stream",
     "text": [
      "('   0.996618   0.0821525 -0.00170916     0.97926\\n -0.0821504    0.996619  0.00122216 -0.00706542\\n 0.00180378 -0.00107762    0.999998  0.00148535\\n          0           0           0           1\\n', '\\n')\n",
      "(matrix([[ 0.996618  ,  0.0821525 , -0.00170916,  0.97926   ],\n",
      "        [-0.0821504 ,  0.996619  ,  0.00122216, -0.00706542],\n",
      "        [ 0.00180378, -0.00107762,  0.999998  ,  0.00148535],\n",
      "        [ 0.        ,  0.        ,  0.        ,  1.        ]]), (4, 4))\n"
     ]
    }
   ],
   "source": [
    "if __name__ == '__main__':\n",
    "\n",
    "    #------- rutas hacia las nubes de puntos y el ejecutable----------\n",
    "    # .cpp file: addres /home/johan/Libraries/libpointmatcher/examples\n",
    "    icp_path=\"/home/johan/Libraries/libpointmatcher/build/examples\"\n",
    "    pointcloud1_path=\"/home/johan/repos/GitHub/3D-Reconstruction/Dataset_csv/pointscsv1.csv\"\n",
    "    pointcloud2_path=\"/home/johan/repos/GitHub/3D-Reconstruction/Dataset_csv/pointscsv137.csv\"\n",
    "\n",
    "    #--------------- correr el ejecutable de c++ ------------------\n",
    "    #runicp = subprocess.Popen([os.path.join(icp_path,\"icp_simple\"),pointcloud1_path,pointcloud2_path],stdout=subprocess.PIPE,stderr=subprocess.PIPE)\n",
    "    runicp = subprocess.Popen([os.path.join(icp_path,\"icp_simple\"),pointcloud1_path,pointcloud2_path,'Out'],stdout=subprocess.PIPE,stderr=subprocess.PIPE)\n",
    "    runicp.wait()\n",
    "    \n",
    "    stdout, stderr = runicp.communicate()\n",
    "    print(stdout,'\\n')\n",
    "    \n",
    "    # bytes to str, alternative (python3)\n",
    "    #a = np.matrix(str(stdout, encoding='ascii'))\n",
    "    \n",
    "    a = str((stdout.decode(\"utf-8\")))\n",
    "    a = np.matrix(a)\n",
    "    \n",
    "    a = a.reshape(4,4)\n",
    "    print(a, a.shape)"
   ]
  },
  {
   "cell_type": "markdown",
   "metadata": {
    "heading_collapsed": true
   },
   "source": [
    "## Final Code ICP-ROS"
   ]
  },
  {
   "cell_type": "code",
   "execution_count": 2,
   "metadata": {
    "hidden": true
   },
   "outputs": [],
   "source": [
    "import rospy\n",
    "import message_filters\n",
    "from sensor_msgs.msg import Image, PointCloud2\n",
    "import sys\n",
    "from cv_bridge import CvBridge, CvBridgeError\n",
    "#import cv2\n",
    "import numpy as np\n",
    "import laser_geometry.laser_geometry as lg\n",
    "import sensor_msgs.point_cloud2 as pc2\n",
    "import open3d as opn3"
   ]
  },
  {
   "cell_type": "code",
   "execution_count": null,
   "metadata": {
    "hidden": true
   },
   "outputs": [],
   "source": [
    "class synchronizer:\n",
    "\tdef __init__(self):\n",
    "\t\t#self.laserProj = LaserProjection()\n",
    "\t\tself.bridge = CvBridge()\n",
    "\t\t#self.image_sub = message_filters.Subscriber('/left/image_rect_color', Image)\n",
    "        self.pc_pub = message_filters.Publisher('/Dense',PointCloud2,queue_size=2)\n",
    "\t\tself.pc_sub = message_filters.Subscriber('/kitti/velo/pointcloud', PointCloud2,self.Callback)\n",
    "\t\t\n",
    "\tdef callback(self, pointcloud):\n",
    "         cloud_pub.publish(pointcloud)\n",
    "        \n",
    "\t\t\n",
    "def main(args):\n",
    "  print('Starting...')\n",
    "  rospy.init_node('sync_node', anonymous=True)\n",
    "  rospy.loginfo(\"sync_node on\")\n",
    "  #sc = synchronizer()\n",
    "  \n",
    "  try:\n",
    "    rospy.spin()\n",
    "  except KeyboardInterrupt:\n",
    "    print(\"Shutting down\")\n",
    "\n",
    "if __name__ == '__main__':\n",
    "\t\n",
    "    main(sys.argv)"
   ]
  },
  {
   "cell_type": "markdown",
   "metadata": {},
   "source": [
    "## OPen3D"
   ]
  },
  {
   "cell_type": "code",
   "execution_count": 13,
   "metadata": {},
   "outputs": [],
   "source": [
    "import open3d as o3d\n",
    "import numpy as np\n",
    "import copy"
   ]
  },
  {
   "cell_type": "code",
   "execution_count": 31,
   "metadata": {},
   "outputs": [
    {
     "name": "stdout",
     "output_type": "stream",
     "text": [
      "Apply point-to-plane ICP\n",
      "RegistrationResult with fitness = 0.744423, inlier_rmse = 0.102642, and correspondence_set size of 20657\n",
      "Access transformation to get result.\n",
      "Transformation is:\n",
      "[[ 9.97600647e-01  6.92309670e-02 -1.47540839e-04  6.43771233e-03]\n",
      " [-6.92310697e-02  9.97594924e-01 -3.38043733e-03 -2.97221163e-02]\n",
      " [-8.68449533e-05  3.38254088e-03  9.99994275e-01 -2.39720663e-02]\n",
      " [ 0.00000000e+00  0.00000000e+00  0.00000000e+00  1.00000000e+00]]\n",
      "\n"
     ]
    }
   ],
   "source": [
    "def draw_registration_result(source, target, transformation):\n",
    "    source_temp = copy.deepcopy(source)\n",
    "    target_temp = copy.deepcopy(target)\n",
    "    source_temp.paint_uniform_color([1, 0.706, 0])\n",
    "    target_temp.paint_uniform_color([0, 0.651, 0.929])\n",
    "    source_temp.transform(transformation)\n",
    "    o3d.draw_geometries([source_temp, target_temp])\n",
    "\n",
    "\n",
    "\n",
    "source = o3d.read_point_cloud(\"/home/johan/Documents/Alignment/INFo_Bag8/Points/points00001.pcd\")\n",
    "target = o3d.read_point_cloud(\"/home/johan/Documents/Alignment/INFo_Bag8/Points/points00023.pcd\")\n",
    "\n",
    "threshold = 0.3\n",
    "trans_init = np.asarray(\n",
    "            [[1, 0, 0,  0],\n",
    "            [0, 1, 0,  0],\n",
    "            [0, 0,  1, 0],\n",
    "            [0, 0, 0, 1]])\n",
    "\n",
    "\n",
    "print(\"Apply point-to-plane ICP\")\n",
    "reg_p2l = o3d.registration_icp(source, target, threshold, trans_init,\n",
    "o3d.TransformationEstimationPointToPoint())\n",
    "print(reg_p2l)\n",
    "print(\"Transformation is:\")\n",
    "print(reg_p2l.transformation)\n",
    "print(\"\")\n",
    "draw_registration_result(source, target, reg_p2l.transformation)"
   ]
  },
  {
   "cell_type": "markdown",
   "metadata": {},
   "source": [
    "**It is very important to initialized the trans_ini in order to have a good ICP performance.**"
   ]
  },
  {
   "cell_type": "code",
   "execution_count": 28,
   "metadata": {},
   "outputs": [
    {
     "name": "stdout",
     "output_type": "stream",
     "text": [
      "Apply point-to-plane ICP\n",
      "RegistrationResult with fitness = 0.980071, inlier_rmse = 0.178639, and correspondence_set size of 27196\n",
      "Access transformation to get result.\n",
      "Transformation is:\n",
      "[[ 9.90654806e-01  1.36366564e-01  2.68617487e-03 -3.17922693e-01]\n",
      " [-1.36369004e-01  9.90657831e-01  7.46351727e-04 -8.69739206e-03]\n",
      " [-2.55930275e-03 -1.10568792e-03  9.99996113e-01 -6.07230188e-03]\n",
      " [ 0.00000000e+00  0.00000000e+00  0.00000000e+00  1.00000000e+00]]\n",
      "\n"
     ]
    }
   ],
   "source": [
    "def draw_registration_result(source, target, transformation):\n",
    "    source_temp = copy.deepcopy(source)\n",
    "    target_temp = copy.deepcopy(target)\n",
    "    source_temp.paint_uniform_color([1, 0.706, 0])\n",
    "    target_temp.paint_uniform_color([0, 0.651, 0.929])\n",
    "    source_temp.transform(transformation)\n",
    "    o3d.draw_geometries([source_temp, target_temp])\n",
    "\n",
    "source = o3d.read_point_cloud(\"/home/johan/Documents/Alignment/INFo_Bag8/Points/points00001.pcd\")\n",
    "target = o3d.read_point_cloud(\"/home/johan/Documents/Alignment/INFo_Bag8/Points/points00023.pcd\")\n",
    "\n",
    "threshold = 0.9\n",
    "\n",
    "trans_init = np.asarray([[ 9.97600647e-01,  6.92309670e-02, -1.47540839e-04,  6.43771233e-03],\n",
    " [-6.92310697e-02,  9.97594924e-01 ,-3.38043733e-03, -2.97221163e-02],\n",
    " [-8.68449533e-05 , 3.38254088e-03 , 9.99994275e-01 ,-2.39720663e-02],\n",
    " [ 0.00000000e+00,  0.00000000e+00 , 0.00000000e+00 , 1.00000000e+00]])\n",
    "\n",
    "print(\"Apply point-to-plane ICP\")\n",
    "reg_p2l = o3d.registration_icp(source, target, threshold, trans_init,\n",
    "o3d.TransformationEstimationPointToPoint())\n",
    "print(reg_p2l)\n",
    "print(\"Transformation is:\")\n",
    "print(reg_p2l.transformation)\n",
    "print(\"\")\n",
    "draw_registration_result(source, target, reg_p2l.transformation)"
   ]
  },
  {
   "cell_type": "markdown",
   "metadata": {},
   "source": [
    "**threshold = 0.3**   \n",
    "Apply point-to-plane ICP   \n",
    "RegistrationResult with fitness = 0.903672, inlier_rmse = 0.092669, and correspondence_set size of 25076   \n",
    "Access transformation to get result.  "
   ]
  },
  {
   "cell_type": "markdown",
   "metadata": {},
   "source": [
    "### Testing OPen 3D using the bag8"
   ]
  },
  {
   "cell_type": "code",
   "execution_count": 44,
   "metadata": {},
   "outputs": [
    {
     "name": "stdout",
     "output_type": "stream",
     "text": [
      "('target_ICP', (27702, 3))\n",
      "('target_ICP', (27702, 4))\n",
      "Apply point-to-plane ICP\n",
      "RegistrationResult with fitness = 0.949800, inlier_rmse = 0.068289, and correspondence_set size of 26356\n",
      "Access transformation to get result.\n",
      "Transformation is:\n",
      "[[ 9.99821864e-01  1.88741586e-02  7.46947191e-05 -2.45684327e-02]\n",
      " [-1.88741556e-02  9.99821866e-01 -4.09616643e-05  6.28392027e-03]\n",
      " [-7.54545304e-05  3.95445678e-05  9.99999996e-01 -2.42031131e-03]\n",
      " [ 0.00000000e+00  0.00000000e+00  0.00000000e+00  1.00000000e+00]]\n",
      "\n"
     ]
    },
    {
     "data": {
      "text/plain": [
       "True"
      ]
     },
     "execution_count": 44,
     "metadata": {},
     "output_type": "execute_result"
    }
   ],
   "source": [
    "source = o3d.read_point_cloud(\"/home/johan/Documents/Alignment/INFo_Bag8/Points/points00001.pcd\")\n",
    "target = o3d.read_point_cloud(\"/home/johan/Documents/Alignment/INFo_Bag8/Points/points00002.pcd\")\n",
    "# convert Open3D.o3d.geometry.PointCloud to numpy array\n",
    "target_ICP = np.asarray(target.points)\n",
    "print('target_ICP', target_ICP.shape)\n",
    "colum = np.ones((target_ICP.shape[0],1))\n",
    "target_ICP = np.hstack((target_ICP,colum))\n",
    "print('target_ICP', target_ICP.shape)\n",
    "\n",
    "threshold = 0.3\n",
    "trans_init = np.asarray(\n",
    "            [[1, 0, 0,  0],\n",
    "            [0, 1, 0,  0],\n",
    "            [0, 0,  1, 0],\n",
    "            [0, 0, 0, 1]])\n",
    "\n",
    "\n",
    "print(\"Apply point-to-plane ICP\")\n",
    "reg_p2l = o3d.registration_icp(source, target, threshold, trans_init,\n",
    "o3d.TransformationEstimationPointToPoint())\n",
    "print(reg_p2l)\n",
    "print(\"Transformation is:\")\n",
    "print(reg_p2l.transformation)\n",
    "print(\"\")\n",
    "\n",
    "target_ICP_DOT = np.dot(target_ICP,reg_p2l.transformation)\n",
    "target_ICP_DOT = target_ICP_DOT[:,0:3]\n",
    "pcd = o3d.PointCloud()\n",
    "pcd.points = o3d.Vector3dVector(target_ICP_DOT)\n",
    "o3d.write_point_cloud(\"/home/johan/Documents/Alignment/INFo_Bag8/PCD_Transformations_Open3D/02ICP.pcd\", pcd)\n",
    "\n",
    "#draw_registration_result(source, target, reg_p2l.transformation)"
   ]
  }
 ],
 "metadata": {
  "kernelspec": {
   "display_name": "Python 2",
   "language": "python",
   "name": "python2"
  },
  "language_info": {
   "codemirror_mode": {
    "name": "ipython",
    "version": 2
   },
   "file_extension": ".py",
   "mimetype": "text/x-python",
   "name": "python",
   "nbconvert_exporter": "python",
   "pygments_lexer": "ipython2",
   "version": "2.7.12"
  },
  "varInspector": {
   "cols": {
    "lenName": 16,
    "lenType": 16,
    "lenVar": 40
   },
   "kernels_config": {
    "python": {
     "delete_cmd_postfix": "",
     "delete_cmd_prefix": "del ",
     "library": "var_list.py",
     "varRefreshCmd": "print(var_dic_list())"
    },
    "r": {
     "delete_cmd_postfix": ") ",
     "delete_cmd_prefix": "rm(",
     "library": "var_list.r",
     "varRefreshCmd": "cat(var_dic_list()) "
    }
   },
   "types_to_exclude": [
    "module",
    "function",
    "builtin_function_or_method",
    "instance",
    "_Feature"
   ],
   "window_display": false
  }
 },
 "nbformat": 4,
 "nbformat_minor": 2
}
