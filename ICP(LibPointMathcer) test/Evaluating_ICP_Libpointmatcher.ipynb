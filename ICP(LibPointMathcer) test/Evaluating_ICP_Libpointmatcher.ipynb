{
 "cells": [
  {
   "cell_type": "code",
   "execution_count": 3,
   "metadata": {},
   "outputs": [],
   "source": [
    "import numpy as np\n",
    "import pandas as pd"
   ]
  },
  {
   "cell_type": "code",
   "execution_count": null,
   "metadata": {},
   "outputs": [],
   "source": [
    "a = np.array(\n",
    "  [[0.981596  , 0.170035 ,-0.0869334  ,0.0732947],\n",
    " [-0.153272   ,0.973012   ,0.172496   ,0.192628],\n",
    "  [0.113918  ,-0.155997   ,0.981167 ,-0.0353618],\n",
    "         [0   ,       0   ,       0  ,        1]])\n",
    "\n",
    "a = np.array([[  0.997681 , -0.0680117, -0.00256759,   0.0867364],\n",
    "  [0.0680267,    0.997663 , 0.00630216 ,-0.00310835],\n",
    " [0.00213301, -0.00646222  ,  0.999977  ,-0.0174408],\n",
    "          [0 ,          0   ,        0  ,         1]])\n",
    "\n",
    "\n",
    "a = np.array([[    0.999392 , 0.00869734 ,  0.0337691    , 0.22473],\n",
    "[-0.00849366,    0.999945,  -0.0061709   ,0.0126105],\n",
    " [-0.0338209 , 0.00588036 ,   0.999411  ,-0.0365836],\n",
    "  [        0  ,         0  ,         0  ,         1]])\n",
    "\n",
    "# It is working very well. It was taken form the web page\n",
    "\n",
    "a = np.array([[ 0.993552  , -0.113149 , 0.00713103     ,0.60831],\n",
    " [  0.113181 ,   0.993565 ,-0.00425984, -0.00387758],\n",
    "[-0.00660312 , 0.00503951   , 0.999965,   0.0107267],\n",
    " [     0      ,     0 ,          0 ,          1]])"
   ]
  },
  {
   "cell_type": "code",
   "execution_count": null,
   "metadata": {},
   "outputs": [],
   "source": [
    "t = pd.read_csv('/home/johan/repos/GitHub/3D-Reconstruction/New/Hokuyo_0.csv') \n",
    "t = t.loc[:,\"x\":\"z\"]\n",
    "#np.savetxt('Hokuyo_010.csv',t)\n",
    "  [ 0.111235  ,  0.993794 ,-0.00064666 ,-0.00289379],"
   ]
  },
  {
   "cell_type": "code",
   "execution_count": null,
   "metadata": {},
   "outputs": [],
   "source": [
    "a = np.array([[   0.993731,   -0.111221  , 0.0113516  ,  0.584085],\n",
    "  [ 0.111235  ,  0.993794 ,-0.00064666 ,-0.00289379],\n",
    " [-0.0112092 , 0.00190521  ,  0.999935   ,0.0161996],\n",
    "  [     0  ,         0     ,      0          , 1]])\n",
    "\n",
    "b = pd.read_csv('/home/johan/repos/GitHub/3D-Reconstruction/New/Hokuyo_1.csv') \n",
    "b = b.loc[:,\"x\":\"z\"]\n",
    "#np.savetxt('Hokuyo_11.csv',b)\n",
    "\n",
    "print ('b',b.shape, type(b))\n",
    "f = np.ones((b.shape[0],1))\n",
    "#print ('f:',f.shape)\n",
    "\n",
    "c = np.hstack((b,f))\n",
    "print ('shape:',c.shape, c[1])\n",
    "\n",
    "c = np.transpose(c)\n",
    "print ('a',a.shape,'c', c.shape)\n",
    "\n",
    "Final = np.dot(a,c)\n",
    "np.savetxt('FinalPoint_Good_Hokuyo_ownCOnfiguration.csv',Final.T[:,0:3])"
   ]
  },
  {
   "cell_type": "markdown",
   "metadata": {},
   "source": [
    "# ICP Transformation JACKAL's point clouds"
   ]
  },
  {
   "cell_type": "markdown",
   "metadata": {},
   "source": [
    "**137**"
   ]
  },
  {
   "cell_type": "code",
   "execution_count": 66,
   "metadata": {},
   "outputs": [],
   "source": [
    "a = np.array([[0.996618  , 0.0821525, -0.00170916  ,   0.97926],\n",
    " [-0.0821504,    0.996619,  0.00122216, -0.00706542],\n",
    " [0.00180378, -0.00107762  ,  0.999998 , 0.00148535],\n",
    "          [0   ,        0     ,      0  ,         1]])"
   ]
  },
  {
   "cell_type": "code",
   "execution_count": 32,
   "metadata": {},
   "outputs": [
    {
     "name": "stdout",
     "output_type": "stream",
     "text": [
      "b (25321, 3) <class 'numpy.matrixlib.defmatrix.matrix'> [[ -1.4794898   -0.59265262  -0.42705145]\n",
      " [-15.5624485   -6.23083878   0.29260704]\n",
      " [ -1.64822817  -0.65957761  -0.40986085]\n",
      " ...\n",
      " [ -4.4411459   -1.46017361   1.07931519]\n",
      " [ -4.44924641  -1.46197784  -0.08174707]\n",
      " [ -4.45088291  -1.4616549    1.25527251]]\n"
     ]
    }
   ],
   "source": [
    "b = pd.read_csv('pointscsv137.csv') \n",
    "b = np.matrix(b.loc[:,\"x\":\"z\"])\n",
    "print ('b',b.shape, type(b),b)\n"
   ]
  },
  {
   "cell_type": "code",
   "execution_count": 33,
   "metadata": {},
   "outputs": [
    {
     "name": "stdout",
     "output_type": "stream",
     "text": [
      "shape: (25321, 4) [[-1.64822817 -0.65957761 -0.40986085  1.        ]]\n"
     ]
    }
   ],
   "source": [
    "f = np.ones((b.shape[0],1))\n",
    "#print ('f:',f.shape)\n",
    "c = np.hstack((b,f))\n",
    "print ('shape:',c.shape, c[2])"
   ]
  },
  {
   "cell_type": "code",
   "execution_count": 34,
   "metadata": {},
   "outputs": [
    {
     "name": "stdout",
     "output_type": "stream",
     "text": [
      "a (4, 4) c (4, 25321)\n"
     ]
    }
   ],
   "source": [
    "c = np.transpose(c)\n",
    "print ('a',a.shape,'c', c.shape)"
   ]
  },
  {
   "cell_type": "code",
   "execution_count": 36,
   "metadata": {},
   "outputs": [],
   "source": [
    "Final = np.dot(a,c)\n",
    "np.savetxt('pointscsv137_transformation.csv',Final.T[:,0:3],header='x,y,z', comments='')"
   ]
  },
  {
   "cell_type": "markdown",
   "metadata": {},
   "source": [
    "**316**"
   ]
  },
  {
   "cell_type": "code",
   "execution_count": 74,
   "metadata": {},
   "outputs": [
    {
     "name": "stdout",
     "output_type": "stream",
     "text": [
      "[[ 2.786000e-03 -4.801120e-02 -3.472530e-03  8.156800e-01]\n",
      " [ 4.795840e-02  2.746000e-03 -1.123306e-02  6.630306e-03]\n",
      " [ 3.032800e-03  1.125972e-02 -6.200000e-05 -3.121305e-02]\n",
      " [ 0.000000e+00  0.000000e+00  0.000000e+00  0.000000e+00]] \n",
      "\n",
      "[[ 9.96024016e-01  2.80479315e-03  8.85633728e-06  1.75771294e+00]\n",
      " [ 2.80888648e-03  9.95986147e-01 -1.22349215e-05  3.07426316e-06]\n",
      " [ 8.72412627e-06 -1.09724346e-05  9.99934000e-01 -4.41560392e-05]\n",
      " [ 0.00000000e+00  0.00000000e+00  0.00000000e+00  1.00000000e+00]]\n",
      "[[ 0.99320679  0.11610876 -0.00769564  2.76814458]\n",
      " [-0.11617192  0.99319387 -0.00832929 -0.15499043]\n",
      " [ 0.00667612  0.00916673  0.99993544 -0.02500414]\n",
      " [ 0.          0.          0.          1.        ]]\n"
     ]
    }
   ],
   "source": [
    "'''a2 = np.array([[0.999717 ,  0.0190926  ,-0.0141886    , 2.27719],\n",
    " [-0.0191805  ,  0.999798, -0.00608373 , 0.00638294],\n",
    "  [0.0140695,   0.0063541  ,  0.999881 , 0.00187874],\n",
    "         [ 0   ,        0    ,       0   ,        1]])\n",
    "\n",
    "a2 = np.array([[0.999052 ,  0.0323841 , -0.0290776   ,  2.60585],\n",
    "  [-0.032609  ,  0.999442 ,-0.00729738 ,  0.0101452],\n",
    "  [0.0288251 , 0.00823864 ,   0.999551 , -0.0360575],\n",
    "   [      0    ,       0  ,         0    ,    1]] )'''\n",
    "\n",
    "#279\n",
    "\n",
    "a2 = np.array([[0.999404   , 0.0341413 , -0.00518169    ,  1.79494],\n",
    "   [-0.034192  ,   0.999365  , -0.0100109 ,-0.000435114],\n",
    "  [0.00483658  ,  0.0101821  ,   0.999936  , -0.0297277],\n",
    "   [        0  ,          0        ,    0    ,        1]])\n",
    "\n",
    "print (a2-a,'\\n')\n",
    "T = a * a2\n",
    "print(T)\n",
    "\n",
    "T = np.dot(a , a2)\n",
    "print(T)"
   ]
  },
  {
   "cell_type": "code",
   "execution_count": 75,
   "metadata": {},
   "outputs": [
    {
     "name": "stdout",
     "output_type": "stream",
     "text": [
      "b (25210, 3) <class 'numpy.matrixlib.defmatrix.matrix'> [[ 0.61403072  1.35487986 -0.39858136]\n",
      " [ 3.18910265  7.03360796  0.13480239]\n",
      " [ 0.71084446  1.5670476  -0.39726356]\n",
      " ...\n",
      " [ 3.13019991  6.02846003 -0.35598922]\n",
      " [ 9.83838844 18.93971634  4.92732811]\n",
      " [ 3.40884566  6.56231165 -0.129078  ]]\n",
      "shape: (25210, 4) [[ 0.71084446  1.5670476  -0.39726356  1.        ]]\n",
      "a (4, 4) c (4, 25210)\n"
     ]
    }
   ],
   "source": [
    "def trans (num,a):\n",
    "    b = pd.read_csv(str(num)+'.csv') \n",
    "    b = np.matrix(b.loc[:,\"x\":\"z\"])\n",
    "    print ('b',b.shape, type(b),b)\n",
    "\n",
    "    f = np.ones((b.shape[0],1))\n",
    "    #print ('f:',f.shape)\n",
    "    c = np.hstack((b,f))\n",
    "    print ('shape:',c.shape, c[2])\n",
    "\n",
    "    c = np.transpose(c)\n",
    "    print ('a',a.shape,'c', c.shape)\n",
    "\n",
    "    Final = np.dot(a,c)\n",
    "    np.savetxt(str(num) +'_transformation_i270si.csv',Final.T[:,0:3],header='x,y,z', comments='')\n",
    "    \n",
    "\n",
    "num = 'pointscsv270'\n",
    "trans(num,T)"
   ]
  },
  {
   "cell_type": "code",
   "execution_count": 41,
   "metadata": {},
   "outputs": [
    {
     "name": "stdout",
     "output_type": "stream",
     "text": [
      "b (24425, 3) <class 'numpy.matrixlib.defmatrix.matrix'> [[ 1.43656361  0.52656084 -0.40996939]\n",
      " [ 1.66889966  0.61106104 -0.41031075]\n",
      " [ 1.9524579   0.7144984  -0.40413347]\n",
      " ...\n",
      " [ 3.17383671  0.96428424 -0.40728739]\n",
      " [ 4.46704102  1.35548854 -0.4084118 ]\n",
      " [ 7.39867592  2.2436564  -0.40518501]]\n"
     ]
    }
   ],
   "source": [
    "b = pd.read_csv('pointscsv316.csv') \n",
    "b = np.matrix(b.loc[:,\"x\":\"z\"])\n",
    "print ('b',b.shape, type(b),b)\n"
   ]
  },
  {
   "cell_type": "code",
   "execution_count": 54,
   "metadata": {},
   "outputs": [
    {
     "name": "stdout",
     "output_type": "stream",
     "text": [
      "[[ 17  55]\n",
      " [123 225]]\n",
      "\n",
      " [[184 166]\n",
      " [ 82  58]]\n"
     ]
    }
   ],
   "source": [
    "# Multiplication matris is not conmutative.\n",
    "r = np.matrix([[1,4],[9,6]])\n",
    "q = np.matrix([[13,19],[1,9]])\n",
    "\n",
    "print(r*q)\n",
    "print('\\n',q*r)"
   ]
  }
 ],
 "metadata": {
  "kernelspec": {
   "display_name": "Python 3",
   "language": "python",
   "name": "python3"
  },
  "language_info": {
   "codemirror_mode": {
    "name": "ipython",
    "version": 2
   },
   "file_extension": ".py",
   "mimetype": "text/x-python",
   "name": "python",
   "nbconvert_exporter": "python",
   "pygments_lexer": "ipython2",
   "version": "2.7.15"
  },
  "varInspector": {
   "cols": {
    "lenName": 16,
    "lenType": 16,
    "lenVar": 40
   },
   "kernels_config": {
    "python": {
     "delete_cmd_postfix": "",
     "delete_cmd_prefix": "del ",
     "library": "var_list.py",
     "varRefreshCmd": "print(var_dic_list())"
    },
    "r": {
     "delete_cmd_postfix": ") ",
     "delete_cmd_prefix": "rm(",
     "library": "var_list.r",
     "varRefreshCmd": "cat(var_dic_list()) "
    }
   },
   "types_to_exclude": [
    "module",
    "function",
    "builtin_function_or_method",
    "instance",
    "_Feature"
   ],
   "window_display": false
  }
 },
 "nbformat": 4,
 "nbformat_minor": 2
}
