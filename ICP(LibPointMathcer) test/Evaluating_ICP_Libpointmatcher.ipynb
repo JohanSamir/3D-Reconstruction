{
 "cells": [
  {
   "cell_type": "code",
   "execution_count": null,
   "metadata": {},
   "outputs": [],
   "source": [
    "import numpy as np\n",
    "import pandas as pd"
   ]
  },
  {
   "cell_type": "code",
   "execution_count": null,
   "metadata": {},
   "outputs": [],
   "source": [
    "a = np.array(\n",
    "  [[0.981596  , 0.170035 ,-0.0869334  ,0.0732947],\n",
    " [-0.153272   ,0.973012   ,0.172496   ,0.192628],\n",
    "  [0.113918  ,-0.155997   ,0.981167 ,-0.0353618],\n",
    "         [0   ,       0   ,       0  ,        1]])\n",
    "\n",
    "a = np.array([[  0.997681 , -0.0680117, -0.00256759,   0.0867364],\n",
    "  [0.0680267,    0.997663 , 0.00630216 ,-0.00310835],\n",
    " [0.00213301, -0.00646222  ,  0.999977  ,-0.0174408],\n",
    "          [0 ,          0   ,        0  ,         1]])\n",
    "\n",
    "\n",
    "a = np.array([[    0.999392 , 0.00869734 ,  0.0337691    , 0.22473],\n",
    "[-0.00849366,    0.999945,  -0.0061709   ,0.0126105],\n",
    " [-0.0338209 , 0.00588036 ,   0.999411  ,-0.0365836],\n",
    "  [        0  ,         0  ,         0  ,         1]])\n",
    "\n",
    "# It is working very well. It was taken form the web page\n",
    "\n",
    "a = np.array([[ 0.993552  , -0.113149 , 0.00713103     ,0.60831],\n",
    " [  0.113181 ,   0.993565 ,-0.00425984, -0.00387758],\n",
    "[-0.00660312 , 0.00503951   , 0.999965,   0.0107267],\n",
    " [     0      ,     0 ,          0 ,          1]])"
   ]
  },
  {
   "cell_type": "code",
   "execution_count": null,
   "metadata": {},
   "outputs": [],
   "source": [
    "t = pd.read_csv('/home/johan/repos/GitHub/3D-Reconstruction/New/Hokuyo_0.csv') \n",
    "t = t.loc[:,\"x\":\"z\"]\n",
    "#np.savetxt('Hokuyo_010.csv',t)"
   ]
  },
  {
   "cell_type": "code",
   "execution_count": null,
   "metadata": {},
   "outputs": [],
   "source": [
    "a = np.array([[   0.993731,   -0.111221  , 0.0113516  ,  0.584085],\n",
    "  [ 0.111235  ,  0.993794 ,-0.00064666 ,-0.00289379],\n",
    " [-0.0112092 , 0.00190521  ,  0.999935   ,0.0161996],\n",
    "  [     0  ,         0     ,      0          , 1]])\n",
    "\n",
    "b = pd.read_csv('/home/johan/repos/GitHub/3D-Reconstruction/New/Hokuyo_1.csv') \n",
    "b = b.loc[:,\"x\":\"z\"]\n",
    "#np.savetxt('Hokuyo_11.csv',b)\n",
    "\n",
    "print ('b',b.shape, type(b))\n",
    "f = np.ones((b.shape[0],1))\n",
    "#print ('f:',f.shape)\n",
    "\n",
    "c = np.hstack((b,f))\n",
    "print ('shape:',c.shape, c[1])\n",
    "\n",
    "c = np.transpose(c)\n",
    "print ('a',a.shape,'c', c.shape)\n",
    "\n",
    "Final = np.dot(a,c)\n",
    "np.savetxt('FinalPoint_Good_Hokuyo_ownCOnfiguration.csv',Final.T[:,0:3])"
   ]
  }
 ],
 "metadata": {
  "kernelspec": {
   "display_name": "Python 3",
   "language": "python",
   "name": "python3"
  },
  "language_info": {
   "codemirror_mode": {
    "name": "ipython",
    "version": 3
   },
   "file_extension": ".py",
   "mimetype": "text/x-python",
   "name": "python",
   "nbconvert_exporter": "python",
   "pygments_lexer": "ipython3",
   "version": "3.5.2"
  },
  "varInspector": {
   "cols": {
    "lenName": 16,
    "lenType": 16,
    "lenVar": 40
   },
   "kernels_config": {
    "python": {
     "delete_cmd_postfix": "",
     "delete_cmd_prefix": "del ",
     "library": "var_list.py",
     "varRefreshCmd": "print(var_dic_list())"
    },
    "r": {
     "delete_cmd_postfix": ") ",
     "delete_cmd_prefix": "rm(",
     "library": "var_list.r",
     "varRefreshCmd": "cat(var_dic_list()) "
    }
   },
   "types_to_exclude": [
    "module",
    "function",
    "builtin_function_or_method",
    "instance",
    "_Feature"
   ],
   "window_display": false
  }
 },
 "nbformat": 4,
 "nbformat_minor": 2
}
